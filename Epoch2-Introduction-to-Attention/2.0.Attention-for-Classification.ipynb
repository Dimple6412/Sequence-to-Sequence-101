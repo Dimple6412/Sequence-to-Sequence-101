{
 "cells": [
  {
   "cell_type": "code",
   "execution_count": 1,
   "metadata": {},
   "outputs": [
    {
     "name": "stderr",
     "output_type": "stream",
     "text": [
      "Using TensorFlow backend.\n"
     ]
    }
   ],
   "source": [
    "import torch\n",
    "\n",
    "from model.classifier import RNNClassifier\n",
    "from utils.data_helper import DataHelper\n",
    "from utils.model_wrapper import ModelWrapper"
   ]
  },
  {
   "cell_type": "code",
   "execution_count": 2,
   "metadata": {
    "collapsed": true
   },
   "outputs": [],
   "source": [
    "device = torch.device(\"cuda:0\" if torch.cuda.is_available() else \"cpu\")"
   ]
  },
  {
   "cell_type": "code",
   "execution_count": null,
   "metadata": {},
   "outputs": [],
   "source": [
    "data_helper = DataHelper()\n",
    "data_loader = data_helper.get_data_loader(\"dataset/train.csv\", 128, device)\n",
    "rnn_classifier = RNNClassifier(vocab_size=100000)\n",
    "model_wrapper = ModelWrapper()"
   ]
  },
  {
   "cell_type": "code",
   "execution_count": null,
   "metadata": {},
   "outputs": [
    {
     "name": "stderr",
     "output_type": "stream",
     "text": [
      "  0%|          | 0/1013 [00:00<?, ?it/s]D:\\Github\\Sequence-to-Sequence-101\\Epoch2-Introduction-to-Attention\\model\\pooling.py:18: UserWarning: Implicit dimension choice for softmax has been deprecated. Change the call to include dim=X as an argument.\n",
      "  attention_weights = torch.nn.functional.softmax(attention_energies) # (B, T)\n",
      "C:\\Users\\zake7\\Anaconda3\\lib\\site-packages\\torch\\nn\\functional.py:1332: UserWarning: nn.functional.sigmoid is deprecated. Use torch.sigmoid instead.\n",
      "  warnings.warn(\"nn.functional.sigmoid is deprecated. Use torch.sigmoid instead.\")\n",
      "100%|██████████| 1013/1013 [00:19<00:00, 51.01it/s]\n",
      "100%|██████████| 1013/1013 [00:06<00:00, 150.07it/s]\n"
     ]
    },
    {
     "name": "stdout",
     "output_type": "stream",
     "text": [
      "Epoch 1: train-loss: 0.1428\t train-acc: 0.9601\t dev-loss: 0.0790\t dev-acc: 0.9749\n"
     ]
    },
    {
     "name": "stderr",
     "output_type": "stream",
     "text": [
      "100%|██████████| 1013/1013 [00:20<00:00, 50.61it/s]\n",
      "100%|██████████| 1013/1013 [00:06<00:00, 148.69it/s]\n"
     ]
    },
    {
     "name": "stdout",
     "output_type": "stream",
     "text": [
      "Epoch 2: train-loss: 0.0785\t train-acc: 0.9728\t dev-loss: 0.0563\t dev-acc: 0.9802\n"
     ]
    },
    {
     "name": "stderr",
     "output_type": "stream",
     "text": [
      "100%|██████████| 1013/1013 [00:19<00:00, 51.05it/s]\n",
      "100%|██████████| 1013/1013 [00:06<00:00, 150.07it/s]\n"
     ]
    },
    {
     "name": "stdout",
     "output_type": "stream",
     "text": [
      "Epoch 3: train-loss: 0.0640\t train-acc: 0.9781\t dev-loss: 0.0496\t dev-acc: 0.9815\n"
     ]
    },
    {
     "name": "stderr",
     "output_type": "stream",
     "text": [
      "100%|██████████| 1013/1013 [00:19<00:00, 51.35it/s]\n",
      " 60%|██████    | 608/1013 [00:04<00:02, 149.81it/s]"
     ]
    }
   ],
   "source": [
    "model_wrapper.train(rnn_classifier, data_loader)"
   ]
  },
  {
   "cell_type": "code",
   "execution_count": null,
   "metadata": {
    "collapsed": true
   },
   "outputs": [],
   "source": []
  }
 ],
 "metadata": {
  "kernelspec": {
   "display_name": "Python 3",
   "language": "python",
   "name": "python3"
  },
  "language_info": {
   "codemirror_mode": {
    "name": "ipython",
    "version": 3
   },
   "file_extension": ".py",
   "mimetype": "text/x-python",
   "name": "python",
   "nbconvert_exporter": "python",
   "pygments_lexer": "ipython3",
   "version": "3.6.3"
  }
 },
 "nbformat": 4,
 "nbformat_minor": 2
}
